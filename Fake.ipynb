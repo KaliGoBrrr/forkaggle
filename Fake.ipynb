{
 "cells": [
  {
   "cell_type": "code",
   "execution_count": null,
   "id": "12df39a6-64e2-474c-851a-f3f19dca89b1",
   "metadata": {},
   "outputs": [],
   "source": [
    "from IPython.display import display, Image\n",
    "import os\n",
    "import time\n",
    "\n",
    "def read_and_display_images_realtime(folder_path, delay_seconds=1):\n",
    "    # Kiểm tra xem thư mục chứa ảnh có tồn tại không\n",
    "    if not os.path.exists(folder_path):\n",
    "        print(f\"Thư mục {folder_path} không tồn tại.\")\n",
    "        return\n",
    "\n",
    "    while True:\n",
    "        # Lặp qua tất cả các tệp trong thư mục\n",
    "        for file_name in os.listdir(folder_path):\n",
    "            # Kiểm tra xem tệp có phải là tệp JPG không\n",
    "            if file_name.lower().endswith(('.jpg', '.jpeg')):\n",
    "                # Hiển thị hình ảnh trên console Jupyter\n",
    "                image_path = os.path.join(folder_path, file_name)\n",
    "                display(Image(filename=image_path))\n",
    "\n",
    "                # In tên tệp ra console\n",
    "                print(f\"Tệp ảnh: {file_name}\")\n",
    "\n",
    "        # Chờ một khoảng thời gian trước khi quay lại lặp\n",
    "        time.sleep(delay_seconds)\n",
    "\n",
    "# Đường dẫn đến thư mục chứa tệp JPG\n",
    "input_folder_path = \"C:\\\\Users\\\\admin\\\\PycharmProjects\\\\BigData\\\\CSVanh\"\n",
    "\n",
    "# Gọi hàm để đọc và hiển thị hình ảnh real-time ra console Jupyter\n",
    "read_and_display_images_realtime(input_folder_path)\n"
   ]
  },
  {
   "cell_type": "code",
   "execution_count": null,
   "id": "93c8983b-ed89-40b6-80d8-539d8afef3d7",
   "metadata": {},
   "outputs": [],
   "source": []
  }
 ],
 "metadata": {
  "kernelspec": {
   "display_name": "Python 3 (ipykernel)",
   "language": "python",
   "name": "python3"
  },
  "language_info": {
   "codemirror_mode": {
    "name": "ipython",
    "version": 3
   },
   "file_extension": ".py",
   "mimetype": "text/x-python",
   "name": "python",
   "nbconvert_exporter": "python",
   "pygments_lexer": "ipython3",
   "version": "3.9.6"
  }
 },
 "nbformat": 4,
 "nbformat_minor": 5
}
